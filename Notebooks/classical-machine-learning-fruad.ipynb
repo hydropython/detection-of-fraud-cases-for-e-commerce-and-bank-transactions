{
 "cells": [
  {
   "cell_type": "code",
   "execution_count": 1,
   "metadata": {},
   "outputs": [
    {
     "name": "stderr",
     "output_type": "stream",
     "text": [
      "d:\\10 ACADAMY KIFIYA\\Week 8 & 9\\detection-of-fraud-cases-for-e-commerce-and-bank-transactions\\env\\Lib\\site-packages\\tqdm\\auto.py:21: TqdmWarning: IProgress not found. Please update jupyter and ipywidgets. See https://ipywidgets.readthedocs.io/en/stable/user_install.html\n",
      "  from .autonotebook import tqdm as notebook_tqdm\n"
     ]
    }
   ],
   "source": [
    "import os\n",
    "import sys\n",
    "import pandas as pd\n",
    "sys.path.append('../Scripts')\n",
    "from classical_machine_learning_fruad import FraudModelingPipeline"
   ]
  },
  {
   "cell_type": "code",
   "execution_count": 2,
   "metadata": {},
   "outputs": [
    {
     "name": "stderr",
     "output_type": "stream",
     "text": [
      "d:\\10 ACADAMY KIFIYA\\Week 8 & 9\\detection-of-fraud-cases-for-e-commerce-and-bank-transactions\\env\\Lib\\site-packages\\sklearn\\metrics\\_classification.py:1531: UndefinedMetricWarning: Precision is ill-defined and being set to 0.0 due to no predicted samples. Use `zero_division` parameter to control this behavior.\n",
      "  _warn_prf(average, modifier, f\"{metric.capitalize()} is\", len(result))\n",
      "d:\\10 ACADAMY KIFIYA\\Week 8 & 9\\detection-of-fraud-cases-for-e-commerce-and-bank-transactions\\env\\Lib\\site-packages\\sklearn\\metrics\\_classification.py:1531: UndefinedMetricWarning: Precision is ill-defined and being set to 0.0 in labels with no predicted samples. Use `zero_division` parameter to control this behavior.\n",
      "  _warn_prf(average, modifier, f\"{metric.capitalize()} is\", len(result))\n",
      "d:\\10 ACADAMY KIFIYA\\Week 8 & 9\\detection-of-fraud-cases-for-e-commerce-and-bank-transactions\\env\\Lib\\site-packages\\sklearn\\metrics\\_classification.py:1531: UndefinedMetricWarning: Precision is ill-defined and being set to 0.0 in labels with no predicted samples. Use `zero_division` parameter to control this behavior.\n",
      "  _warn_prf(average, modifier, f\"{metric.capitalize()} is\", len(result))\n",
      "d:\\10 ACADAMY KIFIYA\\Week 8 & 9\\detection-of-fraud-cases-for-e-commerce-and-bank-transactions\\env\\Lib\\site-packages\\sklearn\\metrics\\_classification.py:1531: UndefinedMetricWarning: Precision is ill-defined and being set to 0.0 in labels with no predicted samples. Use `zero_division` parameter to control this behavior.\n",
      "  _warn_prf(average, modifier, f\"{metric.capitalize()} is\", len(result))\n"
     ]
    },
    {
     "name": "stdout",
     "output_type": "stream",
     "text": [
      "--- Logistic Regression ---\n",
      "              precision    recall  f1-score   support\n",
      "\n",
      "         0.0       0.48      1.00      0.65       219\n",
      "         1.0       0.00      0.00      0.00       234\n",
      "\n",
      "    accuracy                           0.48       453\n",
      "   macro avg       0.24      0.50      0.33       453\n",
      "weighted avg       0.23      0.48      0.32       453\n",
      "\n"
     ]
    },
    {
     "name": "stderr",
     "output_type": "stream",
     "text": [
      "2024/10/27 19:23:33 WARNING mlflow.models.model: Model logged without a signature and input example. Please set `input_example` parameter when logging the model to auto infer the model signature.\n"
     ]
    },
    {
     "name": "stdout",
     "output_type": "stream",
     "text": [
      "--- Decision Tree ---\n",
      "              precision    recall  f1-score   support\n",
      "\n",
      "         0.0       0.46      0.47      0.46       219\n",
      "         1.0       0.50      0.49      0.49       234\n",
      "\n",
      "    accuracy                           0.48       453\n",
      "   macro avg       0.48      0.48      0.48       453\n",
      "weighted avg       0.48      0.48      0.48       453\n",
      "\n"
     ]
    },
    {
     "name": "stderr",
     "output_type": "stream",
     "text": [
      "2024/10/27 19:23:37 WARNING mlflow.models.model: Model logged without a signature and input example. Please set `input_example` parameter when logging the model to auto infer the model signature.\n"
     ]
    },
    {
     "name": "stdout",
     "output_type": "stream",
     "text": [
      "--- Random Forest ---\n",
      "              precision    recall  f1-score   support\n",
      "\n",
      "         0.0       0.53      0.88      0.66       219\n",
      "         1.0       0.70      0.26      0.38       234\n",
      "\n",
      "    accuracy                           0.56       453\n",
      "   macro avg       0.61      0.57      0.52       453\n",
      "weighted avg       0.62      0.56      0.52       453\n",
      "\n"
     ]
    },
    {
     "name": "stderr",
     "output_type": "stream",
     "text": [
      "2024/10/27 19:23:46 WARNING mlflow.models.model: Model logged without a signature and input example. Please set `input_example` parameter when logging the model to auto infer the model signature.\n"
     ]
    },
    {
     "name": "stdout",
     "output_type": "stream",
     "text": [
      "--- Gradient Boosting ---\n",
      "              precision    recall  f1-score   support\n",
      "\n",
      "         0.0       0.50      0.81      0.62       219\n",
      "         1.0       0.57      0.24      0.33       234\n",
      "\n",
      "    accuracy                           0.51       453\n",
      "   macro avg       0.53      0.52      0.47       453\n",
      "weighted avg       0.53      0.51      0.47       453\n",
      "\n"
     ]
    },
    {
     "name": "stderr",
     "output_type": "stream",
     "text": [
      "2024/10/27 19:24:03 WARNING mlflow.models.model: Model logged without a signature and input example. Please set `input_example` parameter when logging the model to auto infer the model signature.\n"
     ]
    }
   ],
   "source": [
    "import pandas as pd\n",
    "\n",
    "# Step 1: Define data types for columns to reduce memory usage\n",
    "data_types = {\n",
    "    'user_id': 'float64',                   # Keep as float64\n",
    "    'signup_time': 'object',                 # Keep as object (string)\n",
    "    'purchase_time': 'object',               # Keep as object (string)\n",
    "    'purchase_value': 'float32',             # Change to float32 for efficiency\n",
    "    'age': 'float32',                        # Change to float32 for efficiency\n",
    "    'ip_address': 'float32',                 # Change to float32 for efficiency\n",
    "    'ip_numeric': 'int32',                   # Change to int32 for efficiency\n",
    "    'transaction_frequency': 'float32',      # Change to float32 for efficiency\n",
    "    'transaction_velocity': 'float32',       # Change to float32 for efficiency\n",
    "    'hour_of_day': 'int8',                   # Change to int8 for efficiency (0-23)\n",
    "    'day_of_week': 'int8',                   # Change to int8 for efficiency (0-6)\n",
    "    'device_id_freq': 'int8',                # Change to int8 for efficiency\n",
    "    'country_freq': 'int8',                  # Change to int8 for efficiency\n",
    "    'source_Direct': 'float32',              # Change to float32 for efficiency\n",
    "    'source_SEO': 'float32',                 # Change to float32 for efficiency\n",
    "    'browser_FireFox': 'float32',            # Change to float32 for efficiency\n",
    "    'browser_IE': 'float32',                 # Change to float32 for efficiency\n",
    "    'browser_Opera': 'float32',              # Change to float32 for efficiency\n",
    "    'browser_Safari': 'float32',             # Change to float32 for efficiency\n",
    "    'sex_M': 'float32',                      # Change to float32 for efficiency\n",
    "    'class_1.0': 'int8'                       # Change to int8 for efficiency (binary)\n",
    "}\n",
    "\n",
    "# Step 2: Load the fraud dataset with specified data types\n",
    "fraud_df = pd.read_csv(\"../Data/balanced_fruad_data.csv\", dtype=data_types)\n",
    "\n",
    "# Step 3: Optionally sample the dataset if it's too large\n",
    "fraud_df = fraud_df.sample(frac=0.1, random_state=42)  # Adjust sample size as needed\n",
    "\n",
    "# Step 4: Initialize the fraud modeling pipeline\n",
    "fraud_pipeline = FraudModelingPipeline(fraud_df, target_column='class', dataset_name=\"fraud-data\")\n",
    "\n",
    "# Step 5: Train the models\n",
    "fraud_pipeline.train_models()"
   ]
  },
  {
   "cell_type": "code",
   "execution_count": 3,
   "metadata": {},
   "outputs": [
    {
     "name": "stdout",
     "output_type": "stream",
     "text": [
      "Fitting 5 folds for each of 50 candidates, totalling 250 fits\n"
     ]
    },
    {
     "name": "stderr",
     "output_type": "stream",
     "text": [
      "d:\\10 ACADAMY KIFIYA\\Week 8 & 9\\detection-of-fraud-cases-for-e-commerce-and-bank-transactions\\env\\Lib\\site-packages\\numpy\\ma\\core.py:2846: RuntimeWarning: invalid value encountered in cast\n",
      "  _data = np.array(data, dtype=dtype, copy=copy,\n"
     ]
    },
    {
     "name": "stdout",
     "output_type": "stream",
     "text": [
      "Best Random Forest Parameters: {'n_estimators': 500, 'min_samples_split': 5, 'min_samples_leaf': 1, 'max_depth': None, 'bootstrap': False}\n",
      "--- Random Forest (Tuned) ---\n",
      "              precision    recall  f1-score   support\n",
      "\n",
      "         0.0       0.54      0.90      0.67       219\n",
      "         1.0       0.75      0.27      0.40       234\n",
      "\n",
      "    accuracy                           0.58       453\n",
      "   macro avg       0.65      0.59      0.54       453\n",
      "weighted avg       0.65      0.58      0.53       453\n",
      "\n"
     ]
    },
    {
     "name": "stderr",
     "output_type": "stream",
     "text": [
      "2024/10/27 19:28:01 WARNING mlflow.models.model: Model logged without a signature and input example. Please set `input_example` parameter when logging the model to auto infer the model signature.\n"
     ]
    },
    {
     "name": "stdout",
     "output_type": "stream",
     "text": [
      "Fitting 5 folds for each of 50 candidates, totalling 250 fits\n",
      "Best Gradient Boosting Parameters: {'subsample': 0.8, 'n_estimators': 300, 'min_samples_split': 2, 'min_samples_leaf': 2, 'max_depth': 7, 'learning_rate': 0.01}\n",
      "--- Gradient Boosting (Tuned) ---\n",
      "              precision    recall  f1-score   support\n",
      "\n",
      "         0.0       0.52      0.61      0.56       219\n",
      "         1.0       0.56      0.47      0.51       234\n",
      "\n",
      "    accuracy                           0.54       453\n",
      "   macro avg       0.54      0.54      0.54       453\n",
      "weighted avg       0.54      0.54      0.53       453\n",
      "\n"
     ]
    },
    {
     "name": "stderr",
     "output_type": "stream",
     "text": [
      "2024/10/27 19:46:42 WARNING mlflow.models.model: Model logged without a signature and input example. Please set `input_example` parameter when logging the model to auto infer the model signature.\n"
     ]
    }
   ],
   "source": [
    "from sklearn.model_selection import RandomizedSearchCV\n",
    "fraud_pipeline.hyperparameter_tuning()"
   ]
  },
  {
   "cell_type": "code",
   "execution_count": 4,
   "metadata": {},
   "outputs": [
    {
     "ename": "ValueError",
     "evalue": "X_train contains non-numeric data after conversion.",
     "output_type": "error",
     "traceback": [
      "\u001b[1;31m---------------------------------------------------------------------------\u001b[0m",
      "\u001b[1;31mValueError\u001b[0m                                Traceback (most recent call last)",
      "Cell \u001b[1;32mIn[4], line 2\u001b[0m\n\u001b[0;32m      1\u001b[0m \u001b[38;5;66;03m# Step 3: Conduct SHAP analysis\u001b[39;00m\n\u001b[1;32m----> 2\u001b[0m \u001b[43mfraud_pipeline\u001b[49m\u001b[38;5;241;43m.\u001b[39;49m\u001b[43mshap_analysis\u001b[49m\u001b[43m(\u001b[49m\u001b[43m)\u001b[49m\n",
      "File \u001b[1;32md:\\10 ACADAMY KIFIYA\\Week 8 & 9\\detection-of-fraud-cases-for-e-commerce-and-bank-transactions\\Notebooks\\../Scripts\\classical_machine_learning_fruad.py:178\u001b[0m, in \u001b[0;36mFraudModelingPipeline.shap_analysis\u001b[1;34m(self)\u001b[0m\n\u001b[0;32m    176\u001b[0m \u001b[38;5;66;03m# Check for remaining non-numeric data\u001b[39;00m\n\u001b[0;32m    177\u001b[0m \u001b[38;5;28;01mif\u001b[39;00m \u001b[38;5;129;01mnot\u001b[39;00m np\u001b[38;5;241m.\u001b[39missubdtype(\u001b[38;5;28mself\u001b[39m\u001b[38;5;241m.\u001b[39mX_train\u001b[38;5;241m.\u001b[39mdtypes, np\u001b[38;5;241m.\u001b[39mnumber):\n\u001b[1;32m--> 178\u001b[0m     \u001b[38;5;28;01mraise\u001b[39;00m \u001b[38;5;167;01mValueError\u001b[39;00m(\u001b[38;5;124m\"\u001b[39m\u001b[38;5;124mX_train contains non-numeric data after conversion.\u001b[39m\u001b[38;5;124m\"\u001b[39m)\n\u001b[0;32m    180\u001b[0m explainer \u001b[38;5;241m=\u001b[39m shap\u001b[38;5;241m.\u001b[39mExplainer(\u001b[38;5;28mself\u001b[39m\u001b[38;5;241m.\u001b[39mgb_best_model, \u001b[38;5;28mself\u001b[39m\u001b[38;5;241m.\u001b[39mX_train)\n\u001b[0;32m    181\u001b[0m shap_values \u001b[38;5;241m=\u001b[39m explainer(\u001b[38;5;28mself\u001b[39m\u001b[38;5;241m.\u001b[39mX_test)\n",
      "\u001b[1;31mValueError\u001b[0m: X_train contains non-numeric data after conversion."
     ]
    }
   ],
   "source": [
    "\n",
    "# Step 3: Conduct SHAP analysis\n",
    "fraud_pipeline.shap_analysis()\n"
   ]
  },
  {
   "cell_type": "code",
   "execution_count": null,
   "metadata": {},
   "outputs": [],
   "source": [
    "# Step 4: Conduct LIME analysis\n",
    "fraud_pipeline.lime_analysis()"
   ]
  }
 ],
 "metadata": {
  "kernelspec": {
   "display_name": "env",
   "language": "python",
   "name": "python3"
  },
  "language_info": {
   "codemirror_mode": {
    "name": "ipython",
    "version": 3
   },
   "file_extension": ".py",
   "mimetype": "text/x-python",
   "name": "python",
   "nbconvert_exporter": "python",
   "pygments_lexer": "ipython3",
   "version": "3.12.6"
  }
 },
 "nbformat": 4,
 "nbformat_minor": 2
}
