{
 "cells": [
  {
   "cell_type": "code",
   "execution_count": 1,
   "metadata": {},
   "outputs": [],
   "source": [
    "import sys\n",
    "import pandas as pd\n",
    "sys.path.append('../Scripts')\n",
    "from Credit_Card_Fraud_Preprocessing import CreditCardFraudPreprocessing"
   ]
  },
  {
   "cell_type": "code",
   "execution_count": 4,
   "metadata": {},
   "outputs": [
    {
     "ename": "TypeError",
     "evalue": "CreditCardFraudPreprocessing.handle_missing_values() got an unexpected keyword argument 'data_type'",
     "output_type": "error",
     "traceback": [
      "\u001b[1;31m---------------------------------------------------------------------------\u001b[0m",
      "\u001b[1;31mTypeError\u001b[0m                                 Traceback (most recent call last)",
      "Cell \u001b[1;32mIn[4], line 5\u001b[0m\n\u001b[0;32m      2\u001b[0m processor \u001b[38;5;241m=\u001b[39m CreditCardFraudPreprocessing()\n\u001b[0;32m      4\u001b[0m \u001b[38;5;66;03m# 1. Handling Missing Values for 'creditcard.csv'\u001b[39;00m\n\u001b[1;32m----> 5\u001b[0m \u001b[43mprocessor\u001b[49m\u001b[38;5;241;43m.\u001b[39;49m\u001b[43mhandle_missing_values\u001b[49m\u001b[43m(\u001b[49m\u001b[43mdata_type\u001b[49m\u001b[38;5;241;43m=\u001b[39;49m\u001b[38;5;124;43m'\u001b[39;49m\u001b[38;5;124;43mcreditcard\u001b[39;49m\u001b[38;5;124;43m'\u001b[39;49m\u001b[43m,\u001b[49m\u001b[43m \u001b[49m\u001b[43mstrategy\u001b[49m\u001b[38;5;241;43m=\u001b[39;49m\u001b[38;5;124;43m'\u001b[39;49m\u001b[38;5;124;43mmean\u001b[39;49m\u001b[38;5;124;43m'\u001b[39;49m\u001b[43m)\u001b[49m\n\u001b[0;32m      6\u001b[0m \u001b[38;5;66;03m# Handles missing values in `creditcard_df`, imputes based on the chosen strategy.\u001b[39;00m\n\u001b[0;32m      7\u001b[0m \n\u001b[0;32m      8\u001b[0m \u001b[38;5;66;03m# 2. Data Cleaning for 'creditcard.csv'\u001b[39;00m\n\u001b[0;32m      9\u001b[0m processor\u001b[38;5;241m.\u001b[39mdata_cleaning(data_type\u001b[38;5;241m=\u001b[39m\u001b[38;5;124m'\u001b[39m\u001b[38;5;124mcreditcard\u001b[39m\u001b[38;5;124m'\u001b[39m)\n",
      "\u001b[1;31mTypeError\u001b[0m: CreditCardFraudPreprocessing.handle_missing_values() got an unexpected keyword argument 'data_type'"
     ]
    }
   ],
   "source": [
    "# Usage with 'creditcard.csv'\n",
    "processor = CreditCardFraudPreprocessing()\n",
    "\n",
    "# 1. Handling Missing Values for 'creditcard.csv'\n",
    "processor.handle_missing_values(data_type='creditcard', strategy='mean')\n",
    "# Handles missing values in `creditcard_df`, imputes based on the chosen strategy.\n",
    "\n",
    "# 2. Data Cleaning for 'creditcard.csv'\n",
    "processor.data_cleaning(data_type='creditcard')\n",
    "# Removes duplicates and corrects data types (e.g., 'Amount' and 'Time') for `creditcard_df`.\n",
    "\n",
    "# 3. EDA for 'creditcard.csv'\n",
    "processor.eda(data_type='creditcard')\n",
    "# Generates univariate and bivariate plots for `creditcard.csv`, focusing on 'Amount' and 'Class' columns. Saves visualizations in `../Image/`.\n",
    "\n",
    "# 6. Normalization and Scaling for 'creditcard.csv'\n",
    "processor.normalization_scaling(data_type='creditcard', method='standard')\n",
    "# Scales 'Amount' and 'Time' columns using standard scaling. Output includes numerical results of scaled data.\n"
   ]
  },
  {
   "cell_type": "code",
   "execution_count": null,
   "metadata": {},
   "outputs": [],
   "source": [
    "# Usage with 'Fraud_Data.csv'\n",
    "processor = CreditCardFraudPreprocessing()\n",
    "\n",
    "# 1. Handling Missing Values for 'Fraud_Data.csv'\n",
    "processor.handle_missing_values(data_type='fraud', strategy='mean')\n",
    "# Imputes missing values in `fraud_df`.\n",
    "\n",
    "# 2. Data Cleaning for 'Fraud_Data.csv'\n",
    "processor.data_cleaning(data_type='fraud')\n",
    "# Removes duplicates and corrects data types in `fraud_df`.\n",
    "\n",
    "# 3. EDA for 'Fraud_Data.csv'\n",
    "processor.eda(data_type='fraud')\n",
    "# Generates univariate and bivariate visualizations for `fraud_df`, focusing on key fraud indicators.\n",
    "\n",
    "# 4. Geolocation Analysis: Merge with IP Address Data\n",
    "processor.merge_datasets_for_geolocation()\n",
    "# Merges `fraud_df` with `ip_country_df` (from `IpAddress_to_Country.csv`) based on IP address conversion.\n",
    "\n",
    "# 5. Feature Engineering for 'Fraud_Data.csv'\n",
    "processor.feature_engineering(data_type='fraud')\n",
    "# Generates time-based features (e.g., 'hour_of_day', 'day_of_week') and transaction velocity features."
   ]
  },
  {
   "cell_type": "code",
   "execution_count": null,
   "metadata": {},
   "outputs": [],
   "source": [
    "# Usage with 'IpAddress_to_Country.csv'\n",
    "processor = CreditCardFraudPreprocessing()\n",
    "\n",
    "# 4. Geolocation Analysis: Merging 'Fraud_Data.csv' with 'IpAddress_to_Country.csv'\n",
    "merged_df = processor.merge_datasets_for_geolocation()\n",
    "# Converts IP addresses to integers in both datasets, merges `fraud_df` with `ip_country_df` to add country information.\n",
    "# Output: Merged DataFrame with added geolocation information, numerical output showing shape of the new DataFrame.\n"
   ]
  },
  {
   "cell_type": "code",
   "execution_count": null,
   "metadata": {},
   "outputs": [],
   "source": [
    "# processor.eda()\n"
   ]
  },
  {
   "cell_type": "code",
   "execution_count": null,
   "metadata": {},
   "outputs": [],
   "source": [
    "\n",
    "# merged_df = processor.merge_datasets_for_geolocation()\n"
   ]
  },
  {
   "cell_type": "code",
   "execution_count": null,
   "metadata": {},
   "outputs": [],
   "source": [
    "\n",
    "# processor.feature_engineering()\n"
   ]
  },
  {
   "cell_type": "code",
   "execution_count": null,
   "metadata": {},
   "outputs": [],
   "source": [
    "# processor.normalization_scaling()\n"
   ]
  },
  {
   "cell_type": "code",
   "execution_count": null,
   "metadata": {},
   "outputs": [],
   "source": [
    "\n",
    "# processor.encode_categorical_features()"
   ]
  }
 ],
 "metadata": {
  "kernelspec": {
   "display_name": "env",
   "language": "python",
   "name": "python3"
  },
  "language_info": {
   "codemirror_mode": {
    "name": "ipython",
    "version": 3
   },
   "file_extension": ".py",
   "mimetype": "text/x-python",
   "name": "python",
   "nbconvert_exporter": "python",
   "pygments_lexer": "ipython3",
   "version": "3.12.6"
  }
 },
 "nbformat": 4,
 "nbformat_minor": 2
}
